{
 "cells": [
  {
   "cell_type": "code",
   "execution_count": 2,
   "metadata": {},
   "outputs": [
    {
     "name": "stdout",
     "output_type": "stream",
     "text": [
      "1\n",
      "2\n",
      "3\n"
     ]
    }
   ],
   "source": [
    "'''1. Crea una tupla con tres elementos y imprime por pantalla cada uno de ellos en una\n",
    "nueva linea'''\n",
    "tupla1 = (1, 2, 3)\n",
    "print(tupla1[0])\n",
    "print(tupla1[1])\n",
    "print(tupla1[2])"
   ]
  },
  {
   "cell_type": "code",
   "execution_count": 5,
   "metadata": {},
   "outputs": [
    {
     "name": "stdout",
     "output_type": "stream",
     "text": [
      "[1, 2, 4]\n"
     ]
    }
   ],
   "source": [
    "'''2. Crea una lista con tres elementos e intenta modificarla. Haz lo mismo con la tupla.\n",
    "¿Cuáles son las diferencias?'''\n",
    "lista1 = [1, 2, 3]\n",
    "lista1[2] = 4\n",
    "print(lista1)\n",
    "#tupla1[2] = 5\n",
    "#print(tupla1)"
   ]
  },
  {
   "cell_type": "code",
   "execution_count": 6,
   "metadata": {},
   "outputs": [
    {
     "name": "stdout",
     "output_type": "stream",
     "text": [
      "6\n"
     ]
    }
   ],
   "source": [
    "'''3. Crea una tupla de enteros y devuelve la suma de los elementos.'''\n",
    "suma_tupla1 = sum(tupla1)\n",
    "print(suma_tupla1)"
   ]
  },
  {
   "cell_type": "code",
   "execution_count": null,
   "metadata": {},
   "outputs": [
    {
     "name": "stdout",
     "output_type": "stream",
     "text": [
      "('H', 'M', 'L', 'G')\n"
     ]
    }
   ],
   "source": [
    "'''4. Crea un script que dada una tupla que contiene strings cree una nueva tupla con el\n",
    "primer caracter de cada string.'''\n",
    "tupla_strings = (\"Hola\", \"Me\", \"Llamo\", \"Gerard\")\n",
    "primer_caracter = (tupla_strings[0][0], tupla_strings[1][0], tupla_strings[2][0], tupla_strings[3][0] )\n",
    "print(primer_caracter)\n",
    "''' O\n",
    "mi_nueva_tupla2 = tuple(palabra[0] for palabra in mi_tupla)\n",
    "print(mi_nueva_tupla2)\n",
    "que es lo mismo que\n",
    "for palabra in mi_tupla:\n",
    "    lista.append(palabra[0])\n",
    "mi_nueva_tupla = tuple(lista)\n",
    "print(mi_nueva_tupla)\n",
    "'''"
   ]
  },
  {
   "cell_type": "code",
   "execution_count": 10,
   "metadata": {},
   "outputs": [
    {
     "name": "stdout",
     "output_type": "stream",
     "text": [
      "384\n"
     ]
    }
   ],
   "source": [
    "'''5. Crea un script que dada una tupla de números devuelva el producto de todos los\n",
    "números pares. '''\n",
    "tupla_producto = (1, 2, 3, 4, 5, 6, 7, 8)\n",
    "producto = 1\n",
    "for numero in tupla_producto:\n",
    "    if numero % 2 == 0:\n",
    "        producto *= numero\n",
    "print(producto)"
   ]
  },
  {
   "cell_type": "code",
   "execution_count": 2,
   "metadata": {},
   "outputs": [
    {
     "name": "stdout",
     "output_type": "stream",
     "text": [
      "<class 'tuple'>\n",
      "(10, 8, 6, 4, 2)\n"
     ]
    }
   ],
   "source": [
    "'''6. Crea un script que dada una tupla de números, devuelva la tupla con los numeros\n",
    "ordeandos en orden descendente.'''\n",
    "tupla_enteros = (2, 4, 6, 8, 10)\n",
    "tupla_sorted = tuple(sorted(tupla_enteros) [::-1]) # o reverse=True\n",
    "print(type(tupla_sorted))\n",
    "print(tupla_sorted)"
   ]
  },
  {
   "cell_type": "code",
   "execution_count": null,
   "metadata": {},
   "outputs": [
    {
     "name": "stdout",
     "output_type": "stream",
     "text": [
      "(1, 2, 3, 4, 5, 6, 7, 8)\n",
      "(1, 2, 3, 4, 5, 6, 7, 8)\n"
     ]
    }
   ],
   "source": [
    "'''7. Crea un script que dada una tupla con números enteros repetidos, elimine los\n",
    "duplicados. (Puedes usar sets).'''\n",
    "tupla_repes = (3, 1, 2, 3, 4, 5, 6, 7, 1, 2, 4, 6, 8, 6, 4, 5, 3, 6, 7, 8, 1, 2, 2)\n",
    "set1 = set(tupla_repes)\n",
    "tupla_repes_good = tuple(set1)\n",
    "print(tupla_repes_good)\n",
    "tupla_repes_good = tuple(set(tupla_repes)) # Para hacerlo todo de golpe de una linea\n",
    "print(tupla_repes_good)"
   ]
  },
  {
   "cell_type": "code",
   "execution_count": 18,
   "metadata": {},
   "outputs": [
    {
     "data": {
      "text/plain": [
       "True"
      ]
     },
     "execution_count": 18,
     "metadata": {},
     "output_type": "execute_result"
    }
   ],
   "source": [
    "'''8. Crea un script que dada una tupla y un numero entero, devuelve verdadero si el\n",
    "numero se encuentra en la tupla y falso en el caso contrario.'''\n",
    "tupla3 = (1, 2, 3, 4, 5)\n",
    "2 in tupla3"
   ]
  },
  {
   "cell_type": "code",
   "execution_count": 29,
   "metadata": {},
   "outputs": [
    {
     "name": "stdout",
     "output_type": "stream",
     "text": [
      "Usando ZIP:  (('hola', 1), ('me', 2), ('llamo', 5))\n",
      "Usando SUMA:  ('hola', 'me', 'llamo', 1, 2, 5, 6)\n"
     ]
    }
   ],
   "source": [
    "'''9. Crea un script que dadas dos tuplas cree una tupla resultante de la union de ambas.'''\n",
    "tupla4 = (\"hola\", \"me\", \"llamo\")\n",
    "tupla5 = (1, 2, 5, 6)\n",
    "tupla_combinada = tuple(zip(tupla4, tupla5))\n",
    "tupla_sumada = tupla4 + tupla5\n",
    "print(\"Usando ZIP: \", tupla_combinada)\n",
    "print(\"Usando SUMA: \", tupla_sumada)"
   ]
  },
  {
   "cell_type": "code",
   "execution_count": 31,
   "metadata": {},
   "outputs": [
    {
     "name": "stdout",
     "output_type": "stream",
     "text": [
      "6\n",
      "1\n"
     ]
    }
   ],
   "source": [
    "'''10. Crea un script que dada una tupla de números devuelva e máximo y el mínimo.'''\n",
    "tupla5_max = max(tupla5)\n",
    "print(tupla5_max)\n",
    "tupla5_min = min(tupla5)\n",
    "print(tupla5_min)"
   ]
  },
  {
   "cell_type": "code",
   "execution_count": 34,
   "metadata": {},
   "outputs": [
    {
     "name": "stdout",
     "output_type": "stream",
     "text": [
      "La verdad es que genial let's go al over\n",
      "YO\n"
     ]
    }
   ],
   "source": [
    "'''11. Crea un script que dada una tupla con strings devuelva el string más largo y el más\n",
    "corto. (Prueba añadiendo key=len a las funciones max y min).'''\n",
    "tupla_string = (\"Hola que tal me llamo Gerard\", \"Hey bro que tal por ahi\", \"YO\",\"La verdad es que genial let's go al over\")\n",
    "tupla_strings_max = max(tupla_string, key=len)\n",
    "tupla_strings_min = min(tupla_string, key=len)\n",
    "print(tupla_strings_max)\n",
    "print(tupla_strings_min)"
   ]
  },
  {
   "cell_type": "code",
   "execution_count": 40,
   "metadata": {},
   "outputs": [
    {
     "name": "stdout",
     "output_type": "stream",
     "text": [
      "(\"La verdad es que genial let's go al over\", 'YO', 'Hey bro que tal por ahi', 'Hola que tal me llamo Gerard')\n"
     ]
    }
   ],
   "source": [
    "'''12. Crea un script que dada una tupla devuelva el contenido en orden revertido.'''\n",
    "tupla_string_inversa = tuple(reversed(tupla_string))\n",
    "print(tupla_string_inversa)"
   ]
  },
  {
   "cell_type": "code",
   "execution_count": 7,
   "metadata": {},
   "outputs": [
    {
     "name": "stdout",
     "output_type": "stream",
     "text": [
      "(3, 7, 11)\n",
      "(3, 7, 11)\n"
     ]
    }
   ],
   "source": [
    "'''13. Crea un script que dada una tupla de tuplas, donde cada tupla interna contiene dos\n",
    "elementos, devuelva una nueva tupla en la que cada elemento sea la suma de los dos\n",
    "elementos de la tupla interna correspondiente'''\n",
    "tupla_original = ((1, 2), (3, 4), (5, 6))\n",
    "'''tupla_suma = ((tupla_original[0][0]) + (tupla_original[0][1]), (tupla_original[1][0]) + (tupla_original[1][1]), (tupla_original[2][0]) + (tupla_original[2][1]))\n",
    "print(tupla_suma)'''\n",
    "mi_lista = []\n",
    "for tupla_interna in tupla_original:\n",
    "    suma = sum(tupla_interna)\n",
    "    mi_lista.append(suma)\n",
    "mi_nueva_tupla = tuple(mi_lista)\n",
    "print(mi_nueva_tupla)\n",
    "\n",
    "mi_nueva_tupla = tuple(sum(tupla_interna) for tupla_interna in tupla_original)\n",
    "print(mi_nueva_tupla)"
   ]
  }
 ],
 "metadata": {
  "kernelspec": {
   "display_name": "ConquerBlocks",
   "language": "python",
   "name": "python3"
  },
  "language_info": {
   "codemirror_mode": {
    "name": "ipython",
    "version": 3
   },
   "file_extension": ".py",
   "mimetype": "text/x-python",
   "name": "python",
   "nbconvert_exporter": "python",
   "pygments_lexer": "ipython3",
   "version": "3.13.2"
  }
 },
 "nbformat": 4,
 "nbformat_minor": 2
}
