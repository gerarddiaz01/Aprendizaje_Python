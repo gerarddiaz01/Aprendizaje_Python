{
 "cells": [
  {
   "cell_type": "code",
   "execution_count": 7,
   "metadata": {},
   "outputs": [
    {
     "name": "stdout",
     "output_type": "stream",
     "text": [
      "{1, 3, 4, 5}\n"
     ]
    }
   ],
   "source": [
    "'''14.Crea un set y elimina uno de sus elementos'''\n",
    "set1 = {1, 2, 3, 4, 5}\n",
    "set1.remove(2)\n",
    "print(set1)\n"
   ]
  },
  {
   "cell_type": "code",
   "execution_count": null,
   "metadata": {},
   "outputs": [
    {
     "name": "stdout",
     "output_type": "stream",
     "text": [
      "set()\n"
     ]
    }
   ],
   "source": [
    "'''15.Crea un set vacío.'''\n",
    "set_vacio = set()\n",
    "print(set_vacio)"
   ]
  },
  {
   "cell_type": "code",
   "execution_count": null,
   "metadata": {},
   "outputs": [
    {
     "name": "stdout",
     "output_type": "stream",
     "text": [
      "Unión: {1, 2, 3, 4, 5, 7, 9}\n",
      "Intersección: {1, 3, 5}\n",
      "Diferrencia: {2, 4}\n"
     ]
    }
   ],
   "source": [
    "'''16.Crea dos sets y encuentra su union, su intersección y su diferencia.'''\n",
    "set2 = {1, 2, 3, 4, 5}\n",
    "set3 = {1, 3, 5, 7, 9}\n",
    "set2_3 = set2 | set3\n",
    "#set2_3 = set2.union(set3)\n",
    "print(\"Unión:\", set2_3)\n",
    "set_intersect = set2 & set3\n",
    "#set_intersect = set2.intersection(set3)\n",
    "print(\"Intersección:\", set_intersect)\n",
    "set_diferencia = set2 - set3\n",
    "#set_diferencia = set2.difference(set3)\n",
    "print(\"Diferencia:\", set_diferencia)"
   ]
  },
  {
   "cell_type": "code",
   "execution_count": null,
   "metadata": {},
   "outputs": [
    {
     "name": "stdout",
     "output_type": "stream",
     "text": [
      "{1, 3, 5}\n"
     ]
    }
   ],
   "source": [
    "'''17.Crea un script que dados dos sets cree uno nuevo que contenga solo los elementos\n",
    "comunes de ambos.'''\n",
    "set_comun = set2 & set3\n",
    "#set_comun = set2.intersection(set3)\n",
    "print(set_comun)"
   ]
  },
  {
   "cell_type": "code",
   "execution_count": 3,
   "metadata": {},
   "outputs": [
    {
     "name": "stdout",
     "output_type": "stream",
     "text": [
      "9\n",
      "1\n"
     ]
    }
   ],
   "source": [
    "'''18.Crea un script que dado un set con números devuelva el numero máximo y mínimo.'''\n",
    "set3 = {1, 3, 5, 7, 9}\n",
    "set_max = max(set3)\n",
    "set_min = min(set3)\n",
    "print(set_max)\n",
    "print(set_min)\n"
   ]
  },
  {
   "cell_type": "code",
   "execution_count": null,
   "metadata": {},
   "outputs": [
    {
     "name": "stdout",
     "output_type": "stream",
     "text": [
      "diferencia simétrica: {2, 4, 7, 9}\n"
     ]
    }
   ],
   "source": [
    "'''19.Crea un script que dados dos sets cree uno nuevo solo con los elementos únicos de\n",
    "cada uno de los sets.'''\n",
    "set2 = {1, 2, 3, 4, 5}\n",
    "set3 = {1, 3, 5, 7, 9}\n",
    "set_simetrico = set2 ^ set3\n",
    "print(\"Diferencia simétrica:\", set_simetrico)\n"
   ]
  },
  {
   "cell_type": "code",
   "execution_count": 18,
   "metadata": {},
   "outputs": [
    {
     "data": {
      "text/plain": [
       "True"
      ]
     },
     "execution_count": 18,
     "metadata": {},
     "output_type": "execute_result"
    }
   ],
   "source": [
    "'''20.Crea un set con colores y comprueba si cierto color se encuentra en el set.'''\n",
    "set_colores = {\"azul\", \"verde\", \"amarillo\", \"negro\"}\n",
    "\"azul\" in set_colores"
   ]
  },
  {
   "cell_type": "code",
   "execution_count": null,
   "metadata": {},
   "outputs": [
    {
     "name": "stdout",
     "output_type": "stream",
     "text": [
      "Diferencia: {8, 9, 7}\n"
     ]
    }
   ],
   "source": [
    "'''21.Crea un script que dados dos sets cree un nuevo set con los elementos que están en\n",
    "el primer set pero no en el segundo.'''\n",
    "set5 = {8, 9, 3, 5, 4, 6, 7, 8}\n",
    "set6 = {4, 6, 5, 3, 2, 1, 5, 6}\n",
    "set_diferencia_2 = set5 - set6\n",
    "#set_diferencia_2 = set5.difference(set6)\n",
    "print(\"Diferencia:\", set_diferencia_2)"
   ]
  },
  {
   "cell_type": "code",
   "execution_count": 5,
   "metadata": {},
   "outputs": [
    {
     "name": "stdout",
     "output_type": "stream",
     "text": [
      "24\n"
     ]
    }
   ],
   "source": [
    "'''22.Crea un script que dado un set de enteros devuelva el producto de todos los números\n",
    "dentro del set. '''\n",
    "set_enteros = {1, 2, 3, 4}\n",
    "set_producto = 1\n",
    "for numero in set_enteros:\n",
    "    set_producto *= numero\n",
    "print(set_producto)"
   ]
  }
 ],
 "metadata": {
  "kernelspec": {
   "display_name": "ConquerBlocks",
   "language": "python",
   "name": "python3"
  },
  "language_info": {
   "codemirror_mode": {
    "name": "ipython",
    "version": 3
   },
   "file_extension": ".py",
   "mimetype": "text/x-python",
   "name": "python",
   "nbconvert_exporter": "python",
   "pygments_lexer": "ipython3",
   "version": "3.13.2"
  }
 },
 "nbformat": 4,
 "nbformat_minor": 2
}
