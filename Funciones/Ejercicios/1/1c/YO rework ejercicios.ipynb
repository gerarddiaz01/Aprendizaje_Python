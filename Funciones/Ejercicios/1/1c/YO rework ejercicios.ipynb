{
 "cells": [
  {
   "cell_type": "markdown",
   "id": "3824d365",
   "metadata": {},
   "source": [
    "'''Implementa una función recursiva llamada factorial que calcule el factorial de\n",
    "un número entero positivo. El factorial de un número n se define como el\n",
    "producto de todos los números enteros positivos desde 1 hasta n.\n",
    "(El factorial de 0 y de 1 es igual a 1)'''"
   ]
  },
  {
   "cell_type": "code",
   "execution_count": 3,
   "id": "5426fc96",
   "metadata": {},
   "outputs": [
    {
     "name": "stdout",
     "output_type": "stream",
     "text": [
      "24\n"
     ]
    }
   ],
   "source": [
    "def factorial(n):\n",
    "    ''' calcular el factorial '''\n",
    "    #input: int positivo\n",
    "    #output: int positivo\n",
    "\n",
    "    #caso base\n",
    "    if n == 1 or n == 0:\n",
    "        return 1\n",
    "    \n",
    "    #sentencia recursiva\n",
    "    else:\n",
    "        return n * factorial(n - 1)\n",
    "\n",
    "print(factorial(4))\n"
   ]
  },
  {
   "cell_type": "markdown",
   "id": "6c95deaa",
   "metadata": {},
   "source": [
    "'''Implementa una función recursiva llamada potencia que calcule el resultado\n",
    "de elevar un número a una potencia dada. Puedes asumir que tanto el\n",
    "número como la potencia son enteros no negativos.'''"
   ]
  },
  {
   "cell_type": "code",
   "execution_count": 6,
   "id": "9ea6f66c",
   "metadata": {},
   "outputs": [
    {
     "name": "stdout",
     "output_type": "stream",
     "text": [
      "100\n"
     ]
    }
   ],
   "source": [
    "def potencia(base, exponente):\n",
    "    ''' calcular la potencia de un numero dado '''\n",
    "    #input: base (int positivo) y exponente (int positivo)\n",
    "    #output: int positivo\n",
    "\n",
    "    #caso base\n",
    "    if exponente == 0:\n",
    "        return 1\n",
    "    \n",
    "    #sentencia recursiva\n",
    "    else:\n",
    "        return base * potencia(base, exponente - 1)\n",
    "\n",
    "print(potencia(10, 2))"
   ]
  },
  {
   "cell_type": "markdown",
   "id": "d4c40739",
   "metadata": {},
   "source": [
    "'''Crea una función recursiva llamada suma_lista que calcule la suma de todos\n",
    "los elementos de una lista de enteros. Puedes asumir que la lista no está\n",
    "vacía'''"
   ]
  },
  {
   "cell_type": "code",
   "execution_count": 7,
   "id": "d51f4252",
   "metadata": {},
   "outputs": [
    {
     "name": "stdout",
     "output_type": "stream",
     "text": [
      "15\n"
     ]
    }
   ],
   "source": [
    "def suma_lista(lista):\n",
    "    ''' calcular la suma de todos los elementos de una lista de enteros '''\n",
    "    #input: lista de numeros int positivos\n",
    "    #output: suma de los elementos de dicha lista en int positivo\n",
    "\n",
    "    #caso base\n",
    "    if len(lista) == 1:\n",
    "        return lista[0]\n",
    "    \n",
    "    #sentencia recursiva\n",
    "    else:\n",
    "        return lista[0] + suma_lista(lista[1:])\n",
    "\n",
    "lista_int = [1, 2, 3, 4, 5]\n",
    "print(suma_lista(lista_int))\n"
   ]
  },
  {
   "cell_type": "markdown",
   "id": "2756cfc6",
   "metadata": {},
   "source": [
    "'''Crea una función recursiva llamada numero_triangular que calcule el n-ésimo\n",
    "número triangular. Un número triangular se obtiene al sumar todos los\n",
    "números naturales desde 1 hasta n'''"
   ]
  },
  {
   "cell_type": "code",
   "execution_count": 8,
   "id": "beb4ee86",
   "metadata": {},
   "outputs": [
    {
     "name": "stdout",
     "output_type": "stream",
     "text": [
      "10\n"
     ]
    }
   ],
   "source": [
    "def numero_triangular(n):\n",
    "    ''' calcular el n-esimo numero triangular '''\n",
    "    #input: int positivo\n",
    "    #output: int positivo\n",
    "\n",
    "    #caso base\n",
    "    if n == 1:\n",
    "        return 1\n",
    "    \n",
    "    #sentencia recursiva:\n",
    "    else:\n",
    "        return n + numero_triangular(n - 1)\n",
    "    \n",
    "print(numero_triangular(4))"
   ]
  }
 ],
 "metadata": {
  "kernelspec": {
   "display_name": "ConquerBlocks",
   "language": "python",
   "name": "python3"
  },
  "language_info": {
   "codemirror_mode": {
    "name": "ipython",
    "version": 3
   },
   "file_extension": ".py",
   "mimetype": "text/x-python",
   "name": "python",
   "nbconvert_exporter": "python",
   "pygments_lexer": "ipython3",
   "version": "3.13.2"
  }
 },
 "nbformat": 4,
 "nbformat_minor": 5
}
