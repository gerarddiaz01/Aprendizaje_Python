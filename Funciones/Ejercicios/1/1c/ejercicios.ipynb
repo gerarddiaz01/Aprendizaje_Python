{
 "cells": [
  {
   "attachments": {},
   "cell_type": "markdown",
   "metadata": {},
   "source": [
    "FACTORIAL"
   ]
  },
  {
   "cell_type": "code",
   "execution_count": 3,
   "metadata": {},
   "outputs": [
    {
     "data": {
      "text/plain": [
       "6"
      ]
     },
     "execution_count": 3,
     "metadata": {},
     "output_type": "execute_result"
    }
   ],
   "source": [
    "def factorial(n):\n",
    "    \"\"\"Calcula el factorial de n\"\"\"\n",
    "    #INPUT:\n",
    "    # - n: int\n",
    "    #OUTPUT:\n",
    "    # - resultado: int\n",
    "\n",
    "    # planteamos el caso base\n",
    "    if  n == 0 or n == 1:\n",
    "        return 1\n",
    "\n",
    "    # planetar la sentencia recursiva\n",
    "    else:\n",
    "        return n * factorial(n - 1) \n",
    "    \n",
    "# caso de uso\n",
    "factorial(3)\n",
    "\n",
    "\"\"\"\n",
    "3 * factorial(2)\n",
    "3 * 2 * factorial(1)\n",
    "3 * 2 * 1\n",
    "\n",
    "\"\"\""
   ]
  },
  {
   "attachments": {},
   "cell_type": "markdown",
   "metadata": {},
   "source": [
    "POTENCIA"
   ]
  },
  {
   "cell_type": "code",
   "execution_count": 4,
   "metadata": {},
   "outputs": [
    {
     "data": {
      "text/plain": [
       "100"
      ]
     },
     "execution_count": 4,
     "metadata": {},
     "output_type": "execute_result"
    }
   ],
   "source": [
    "def potencia(base, exponente):\n",
    "    \"\"\"Calcula la potencia de un numero\"\"\"\n",
    "    # INPUT:\n",
    "    # - base: el numero que queremos elevar (int positivo)\n",
    "    # - exponente: int positivo\n",
    "    # OUTPUT:\n",
    "    # resultado: int positivo\n",
    "\n",
    "    # caso base\n",
    "    if exponente == 0:\n",
    "        return 1\n",
    "\n",
    "    # sentencia recursiva\n",
    "    else:\n",
    "        return base * potencia(base, exponente - 1)\n",
    "\n",
    "# caso de uso\n",
    "potencia(10,2)\n",
    "\n",
    "\"\"\"\n",
    "10 * potencia(10, 1)\n",
    "10 * 10 * potencia(10,0)\n",
    "10 * 10 * 1\n",
    "\"\"\"\n",
    "\n"
   ]
  },
  {
   "attachments": {},
   "cell_type": "markdown",
   "metadata": {},
   "source": [
    "SUMA DE ELEMENTOS DE UNA LISTA"
   ]
  },
  {
   "cell_type": "code",
   "execution_count": 5,
   "metadata": {},
   "outputs": [
    {
     "data": {
      "text/plain": [
       "15"
      ]
     },
     "execution_count": 5,
     "metadata": {},
     "output_type": "execute_result"
    }
   ],
   "source": [
    "def suma_lista(lista):\n",
    "    \"\"\" sumar los elementos de una\n",
    "     lista de enteros\"\"\"\n",
    "    # INPUT:\n",
    "    # - lista: lista de numeros enteros\n",
    "    # OUTPUT:\n",
    "    # resultado: int - suma de elementos de la lista\n",
    "\n",
    "    # caso base:\n",
    "    if len(lista) == 1:\n",
    "        return lista[0]\n",
    "    \n",
    "    # sentencia recursiva\n",
    "    else:\n",
    "        return lista[0] + suma_lista(lista[1:])\n",
    "\n",
    "# caso de uso\n",
    "lista = [1,2,3,4,5]\n",
    "suma_lista(lista)\n",
    "\n",
    "\"\"\"\n",
    "1 + suma_lista([2,3,4,5])\n",
    "1 + 2 + suma_lista([3,4,5])\n",
    "1 + 2 + 3 + suma_lista([4,5])\n",
    "1 + 2 + 3 + 4 + suma_lista([5])\n",
    "1 + 2 + 3 + 4 + 5\n",
    "\"\"\""
   ]
  },
  {
   "attachments": {},
   "cell_type": "markdown",
   "metadata": {},
   "source": [
    "NUMERO TRIANGULAR"
   ]
  },
  {
   "cell_type": "code",
   "execution_count": 6,
   "metadata": {},
   "outputs": [
    {
     "data": {
      "text/plain": [
       "15"
      ]
     },
     "execution_count": 6,
     "metadata": {},
     "output_type": "execute_result"
    }
   ],
   "source": [
    "def numero_triangular(n):\n",
    "    \"\"\" Calcular el valor del \n",
    "    numero triangular de n\"\"\"\n",
    "    # INPUT:\n",
    "    # - n: int positivo\n",
    "    # OUTPUT:\n",
    "    # resultado: int positivo\n",
    "\n",
    "    # caso base:\n",
    "    if n == 1:\n",
    "        return 1\n",
    "    \n",
    "    # sentencia recursiva\n",
    "    else:\n",
    "        return n + numero_triangular(n - 1)\n",
    "\n",
    "# caso de uso\n",
    "numero_triangular(5)\n",
    "\n",
    "\"\"\"\n",
    "5 + numero_triangular(4)\n",
    "5 + 4 + numero_triangular(3)\n",
    "5 + 4 + 3 + numero_triangular(2)\n",
    "5 + 4 + 3 + 2 + numero_triangular(1)\n",
    "5 + 4 + 3 + 2 + 1\n",
    " \"\"\"\n"
   ]
  }
 ],
 "metadata": {
  "kernelspec": {
   "display_name": "cblocks",
   "language": "python",
   "name": "python3"
  },
  "language_info": {
   "codemirror_mode": {
    "name": "ipython",
    "version": 3
   },
   "file_extension": ".py",
   "mimetype": "text/x-python",
   "name": "python",
   "nbconvert_exporter": "python",
   "pygments_lexer": "ipython3",
   "version": "3.9.16"
  },
  "orig_nbformat": 4
 },
 "nbformat": 4,
 "nbformat_minor": 2
}
