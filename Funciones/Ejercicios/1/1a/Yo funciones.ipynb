{
 "cells": [
  {
   "cell_type": "markdown",
   "id": "b34b32c2",
   "metadata": {},
   "source": [
    "1. Define una función llamada \"saludar\" que tome un parámetro \"nombre\"\n",
    "y muestre un saludo personalizado."
   ]
  },
  {
   "cell_type": "code",
   "execution_count": 2,
   "id": "eb58d4c1",
   "metadata": {},
   "outputs": [
    {
     "name": "stdout",
     "output_type": "stream",
     "text": [
      "Hola Gerard espero que estés bien\n"
     ]
    }
   ],
   "source": [
    "def saludar(nombre):\n",
    "    print(f\"Hola {nombre.capitalize()} espero que estés bien\")\n",
    "\n",
    "saludar(\"gerard\")"
   ]
  },
  {
   "cell_type": "markdown",
   "id": "9efa9277",
   "metadata": {},
   "source": [
    "2. Crea una función llamada \"suma\" que tome dos parámetros \"a\" y \"b\" e\n",
    "imprima la suma de ambos."
   ]
  },
  {
   "cell_type": "code",
   "execution_count": 7,
   "id": "e01f6a25",
   "metadata": {},
   "outputs": [
    {
     "name": "stdout",
     "output_type": "stream",
     "text": [
      "3\n"
     ]
    }
   ],
   "source": [
    "def suma(a, b):\n",
    "    print(a + b)\n",
    "\n",
    "suma(1, 2)"
   ]
  },
  {
   "cell_type": "markdown",
   "id": "b7a9f112",
   "metadata": {},
   "source": [
    "3. Escribe una función llamada \"calcular_area_rectangulo\" que tome dos parámetros \"base\" y \"altura\" y calcule el área de un rectángulo."
   ]
  },
  {
   "cell_type": "code",
   "execution_count": 8,
   "id": "d8db901f",
   "metadata": {},
   "outputs": [
    {
     "name": "stdout",
     "output_type": "stream",
     "text": [
      "50\n"
     ]
    }
   ],
   "source": [
    "def calcular_area_rectangulo(base, altura):\n",
    "    return base * altura\n",
    "\n",
    "area = calcular_area_rectangulo(5, 10)\n",
    "print(area)"
   ]
  },
  {
   "cell_type": "markdown",
   "id": "2715c9d7",
   "metadata": {},
   "source": [
    "4. Define una función llamada \"imprimir_lista\" que tome una lista como\n",
    "parámetro y la imprima en la consola."
   ]
  },
  {
   "cell_type": "code",
   "execution_count": 10,
   "id": "e48e6224",
   "metadata": {},
   "outputs": [
    {
     "name": "stdout",
     "output_type": "stream",
     "text": [
      "[1, 2, 3, 4]\n"
     ]
    }
   ],
   "source": [
    "def imprimir_lista(lista):\n",
    "    print(lista)\n",
    "\n",
    "imprimir_lista([1, 2, 3, 4])"
   ]
  },
  {
   "cell_type": "markdown",
   "id": "1fd91c12",
   "metadata": {},
   "source": [
    "5. Crea una función llamada \"es_par\" que tome un número como parámetro e imprima True si es par, o False si es impar."
   ]
  },
  {
   "cell_type": "code",
   "execution_count": 13,
   "id": "b163410d",
   "metadata": {},
   "outputs": [
    {
     "name": "stdout",
     "output_type": "stream",
     "text": [
      "True\n"
     ]
    }
   ],
   "source": [
    "def es_par(num):\n",
    "    if num % 2 == 0:\n",
    "        print(True)\n",
    "    else:\n",
    "        print(False)\n",
    "\n",
    "es_par(6)"
   ]
  },
  {
   "cell_type": "markdown",
   "id": "6ca7d9de",
   "metadata": {},
   "source": [
    "6. Escribe una función llamada \"concatenar_strings\" que tome dos parámetros \"cadena1\" y “cadena2\" e imprima la concatenación de ambas cadenas."
   ]
  },
  {
   "cell_type": "code",
   "execution_count": 15,
   "id": "a390cc03",
   "metadata": {},
   "outputs": [
    {
     "name": "stdout",
     "output_type": "stream",
     "text": [
      "Gerard Hola\n"
     ]
    }
   ],
   "source": [
    "def concatenar_strings(cadena1, cadena2):\n",
    "    ambas = cadena1 + cadena2\n",
    "    print(ambas)\n",
    "\n",
    "concatenar_strings(\"Gerard\", \" Hola\")"
   ]
  },
  {
   "cell_type": "markdown",
   "id": "afe49270",
   "metadata": {},
   "source": [
    "7. Define una función llamada \"obtener_maximo\" que tome una lista de números como parámetro y devuelva el número máximo de la lista."
   ]
  },
  {
   "cell_type": "code",
   "execution_count": 17,
   "id": "ccd6d29e",
   "metadata": {},
   "outputs": [
    {
     "name": "stdout",
     "output_type": "stream",
     "text": [
      "89\n"
     ]
    }
   ],
   "source": [
    "def obtener_maximo(lista):\n",
    "    return max(lista)\n",
    "\n",
    "maximo = obtener_maximo([2, 4, 5, 4, 7, 9, 2, 67, 78, 89])\n",
    "print(maximo)"
   ]
  },
  {
   "cell_type": "markdown",
   "id": "7617dafb",
   "metadata": {},
   "source": [
    "8. Crea una función llamada \"convertir_fahrenheit_a_celsius\" que tome un parámetro \"fahrenheit\" y devuelva su equivalente en grados Celsius."
   ]
  },
  {
   "cell_type": "code",
   "execution_count": 20,
   "id": "f4845e49",
   "metadata": {},
   "outputs": [
    {
     "name": "stdout",
     "output_type": "stream",
     "text": [
      "48.89\n"
     ]
    }
   ],
   "source": [
    "def convertir_fahrenhei_a_celsius(fahrenheit):\n",
    "    celsius = (fahrenheit - 32) * 5 / 9\n",
    "    return celsius\n",
    "\n",
    "print(f\"{convertir_fahrenhei_a_celsius(120):.2f}\")\n"
   ]
  },
  {
   "cell_type": "markdown",
   "id": "e17e591b",
   "metadata": {},
   "source": [
    "9. Escribe una función llamada \"calcular_edad\" que tome dos parámetros: \"año_actual\" y \"año_nacimiento\" y calcule la edad de una persona."
   ]
  },
  {
   "cell_type": "code",
   "execution_count": 25,
   "id": "edf5ff67",
   "metadata": {},
   "outputs": [
    {
     "name": "stdout",
     "output_type": "stream",
     "text": [
      "29\n"
     ]
    }
   ],
   "source": [
    "def calcular_edad(año_nacimiento, año_actual = 2023):\n",
    "    edad = año_actual - año_nacimiento\n",
    "    print(edad)\n",
    "\n",
    "calcular_edad(1994)"
   ]
  },
  {
   "cell_type": "markdown",
   "id": "cbbff78a",
   "metadata": {},
   "source": [
    "10.  Define una función llamada \"es_divisible\" que tome dos parámetros \"num\" y \"divisor\" e imprima True si \"num\" es divisible por \"divisor\", o False si no lo es."
   ]
  },
  {
   "cell_type": "code",
   "execution_count": 26,
   "id": "46798e94",
   "metadata": {},
   "outputs": [
    {
     "name": "stdout",
     "output_type": "stream",
     "text": [
      "True\n"
     ]
    }
   ],
   "source": [
    "def es_divisible(num, divisor):\n",
    "    if num % divisor == 0:\n",
    "        print(True)\n",
    "    else:\n",
    "        print(False)\n",
    "\n",
    "es_divisible(10, 5)"
   ]
  },
  {
   "cell_type": "markdown",
   "id": "fad88c28",
   "metadata": {},
   "source": [
    "11.  Crea una función llamada \"mostrar_info_persona\" que tome tres argumentos de palabra clave: \"nombre\", \"edad\" y \"ciudad\". La función debe imprimir en la consola la información de una persona en un formato legible."
   ]
  },
  {
   "cell_type": "code",
   "execution_count": 34,
   "id": "505555ff",
   "metadata": {},
   "outputs": [
    {
     "name": "stdout",
     "output_type": "stream",
     "text": [
      "Nombre: Gerard\n",
      "Edad: 30\n",
      "Ciudad: Andorra\n"
     ]
    }
   ],
   "source": [
    "def mostrar_info_persona(nombre, edad, ciudad):\n",
    "    print(f\"Nombre: {nombre}\")\n",
    "    print(f\"Edad: {edad}\")\n",
    "    print(f\"Ciudad: {ciudad}\")\n",
    "\n",
    "mostrar_info_persona(edad=\"30\", nombre=\"Gerard\", ciudad=\"Andorra\")\n"
   ]
  },
  {
   "cell_type": "markdown",
   "id": "0683d8ca",
   "metadata": {},
   "source": [
    "12.  Escribe una función llamada \"calcular_promedio\" que tome una lista de números como parámetro y calcule el promedio de esos números. Si no se proporciona una lista, debe usar una lista vacía por defecto."
   ]
  },
  {
   "cell_type": "code",
   "execution_count": 38,
   "id": "259144c2",
   "metadata": {},
   "outputs": [
    {
     "name": "stdout",
     "output_type": "stream",
     "text": [
      "El promedio es: 26.44\n"
     ]
    }
   ],
   "source": [
    "def calcular_promedio(lista_numeros):\n",
    "    if not lista_numeros:  # Check if the list is empty\n",
    "        return 0  # Return 0 as the average for an empty list\n",
    "    promedio = sum(lista_numeros) / len(lista_numeros)\n",
    "    return promedio\n",
    "\n",
    "# The variable 'lista' is already defined in the notebook, so we reuse it.\n",
    "promedio = calcular_promedio(lista)\n",
    "print(f\"El promedio es: {promedio:.2f}\")"
   ]
  },
  {
   "cell_type": "markdown",
   "id": "1543f5ce",
   "metadata": {},
   "source": [
    "14.  Crea una función llamada \"calcular_potencia\" que tome dos parámetros \"base\" y \"exponente\", y calcule la potencia de la base elevada al exponente. Utiliza 2 como valor por defecto para el exponente."
   ]
  },
  {
   "cell_type": "code",
   "execution_count": 41,
   "id": "74136532",
   "metadata": {},
   "outputs": [
    {
     "name": "stdout",
     "output_type": "stream",
     "text": [
      "27\n"
     ]
    }
   ],
   "source": [
    "def calcular_potencia(base, exponente):\n",
    "    return base ** exponente\n",
    "\n",
    "potencia = calcular_potencia(3, 3)\n",
    "print(potencia)"
   ]
  },
  {
   "cell_type": "markdown",
   "id": "3c164cb6",
   "metadata": {},
   "source": [
    "15.  Define una función llamada \"imprimir_info_alumno\" que tome un argumento posicional \"nombre\" y varios argumentos de palabra clave: \"edad\", \"curso\" y \"promedio\". La función debe imprimir la información del alumno en un formato legible."
   ]
  },
  {
   "cell_type": "code",
   "execution_count": 45,
   "id": "ede92243",
   "metadata": {},
   "outputs": [
    {
     "name": "stdout",
     "output_type": "stream",
     "text": [
      "Nombre: Gerard\n",
      "Edad: 29\n",
      "Curso: Primero\n",
      "Promedio: 7.2\n"
     ]
    }
   ],
   "source": [
    "def imprimir_info_alumno(nombre, edad=30, curso=\"Segundo\", promedio=7.2):\n",
    "    print(f\"Nombre: {nombre}\")\n",
    "    print(f\"Edad: {edad}\")\n",
    "    print(f\"Curso: {curso}\")\n",
    "    print(f\"Promedio: {promedio}\")\n",
    "\n",
    "imprimir_info_alumno(\"Gerard\", 29, \"Primero\")"
   ]
  },
  {
   "cell_type": "code",
   "execution_count": 46,
   "id": "7688cfb8",
   "metadata": {},
   "outputs": [
    {
     "name": "stdout",
     "output_type": "stream",
     "text": [
      "Nombre: Juan\n",
      "Edad: 13\n",
      "Promedio: 8.0\n"
     ]
    }
   ],
   "source": [
    "def imprimir_info_alumno(nombre, edad = None, curso = None, promedio = None):\n",
    "    print(\"Nombre:\", nombre)\n",
    "    if edad is not None:\n",
    "        print(\"Edad:\", edad)\n",
    "    if curso is not None:\n",
    "        print(\"Curso:\", curso)\n",
    "    if promedio is not None:\n",
    "        print(\"Promedio:\", promedio)\n",
    "\n",
    "imprimir_info_alumno(\"Juan\", edad = 13, promedio = 8.0)"
   ]
  }
 ],
 "metadata": {
  "kernelspec": {
   "display_name": "ConquerBlocks",
   "language": "python",
   "name": "python3"
  },
  "language_info": {
   "codemirror_mode": {
    "name": "ipython",
    "version": 3
   },
   "file_extension": ".py",
   "mimetype": "text/x-python",
   "name": "python",
   "nbconvert_exporter": "python",
   "pygments_lexer": "ipython3",
   "version": "3.13.2"
  }
 },
 "nbformat": 4,
 "nbformat_minor": 5
}
