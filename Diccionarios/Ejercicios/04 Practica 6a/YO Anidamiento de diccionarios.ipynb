{
 "cells": [
  {
   "cell_type": "markdown",
   "metadata": {},
   "source": [
    "22. Crea un diccionario llamado \"productos\" que contenga dos entradas. Cada entrada representa un producto y tiene a su vez las claves \"nombre\" y \"precio\" con sus respectivos valores. Recorre el diccionario e imprime el nombre y precio de cada producto."
   ]
  },
  {
   "cell_type": "code",
   "execution_count": 16,
   "metadata": {},
   "outputs": [
    {
     "name": "stdout",
     "output_type": "stream",
     "text": [
      "Cada huevo cuesta 3 €\n",
      "Cada ahuacate cuesta 4 €\n"
     ]
    }
   ],
   "source": [
    "productos = {\n",
    "    \"producto1\": {\"nombre\": \"huevo\", \"precio\": 3},\n",
    "    \"producto2\": {\"nombre\": \"ahuacate\", \"precio\": 4}\n",
    "}\n",
    "\n",
    "for clave, valor in productos.items():\n",
    "    nombre = valor[\"nombre\"]\n",
    "    precio = valor[\"precio\"]\n",
    "    print(f\"Cada {nombre} cuesta {precio} €\")"
   ]
  },
  {
   "cell_type": "markdown",
   "metadata": {},
   "source": [
    "23. Agrega un nuevo producto al diccionario \"productos\" utilizando una nueva clave y\n",
    "valor. Imprime el diccionario actualizado.\n"
   ]
  },
  {
   "cell_type": "code",
   "execution_count": 17,
   "metadata": {},
   "outputs": [
    {
     "name": "stdout",
     "output_type": "stream",
     "text": [
      "Cada huevo cuesta 3 €\n",
      "Cada ahuacate cuesta 4 €\n",
      "Cada pollo cuesta 6 €\n"
     ]
    }
   ],
   "source": [
    "productos[\"producto3\"] = {\"nombre\": \"pollo\", \"precio\": 6}\n",
    "for clave, valor in productos.items():\n",
    "    nombre = valor[\"nombre\"]\n",
    "    precio = valor[\"precio\"]\n",
    "    print(f\"Cada {nombre} cuesta {precio} €\")"
   ]
  },
  {
   "cell_type": "markdown",
   "metadata": {},
   "source": [
    "24. Crea un diccionario llamado \"equipos\" que contenga tres entradas. Cada entrada\n",
    "representa un equipo deportivo y tiene las claves \"nombre\" y \"jugadores\" con sus\n",
    "respectivos valores. Los valores de \"jugadores\" deben ser listas con los nombres de\n",
    "los jugadores. Recorre el diccionario e imprime el nombre del equipo y la lista de\n",
    "jugadores."
   ]
  },
  {
   "cell_type": "code",
   "execution_count": 24,
   "metadata": {},
   "outputs": [
    {
     "name": "stdout",
     "output_type": "stream",
     "text": [
      "Nombre del equipo: FCB \n",
      " Jugadores:['Jugador 1', 'Jugador 2', 'Jugador 3']\n",
      "Nombre del equipo: Madrid FC \n",
      " Jugadores:['Jugador 1', 'Jugador 2', 'Jugador 3']\n",
      "Nombre del equipo: Valencia FC \n",
      " Jugadores:['Jugador 1', 'Jugador 2', 'Jugador 3']\n"
     ]
    }
   ],
   "source": [
    "equipos = {\n",
    "    \"equipo1\": {\"nombre\": \"FCB\", \"jugadores\": [\"Jugador 1\", \"Jugador 2\", \"Jugador 3\"]},\n",
    "    \"equipo2\": {\"nombre\": \"Madrid FC\", \"jugadores\": [\"Jugador 1\", \"Jugador 2\", \"Jugador 3\"]},\n",
    "    \"equipo3\": {\"nombre\": \"Valencia FC\", \"jugadores\": [\"Jugador 1\", \"Jugador 2\", \"Jugador 3\"]}\n",
    "\n",
    "}\n",
    "\n",
    "for valor in equipos.values():\n",
    "    equipo = valor[\"nombre\"]\n",
    "    jugadores = valor[\"jugadores\"]\n",
    "    print(f\"Nombre del equipo: {equipo} \\n Jugadores:{jugadores}\")"
   ]
  },
  {
   "cell_type": "markdown",
   "metadata": {},
   "source": [
    "25. Agrega un nuevo equipo al diccionario \"equipos\" utilizando una nueva clave y valor.\n",
    "La lista de jugadores debe contener al menos tres nombres. Imprime el diccionario\n",
    "actualizado."
   ]
  },
  {
   "cell_type": "code",
   "execution_count": 22,
   "metadata": {},
   "outputs": [
    {
     "name": "stdout",
     "output_type": "stream",
     "text": [
      "Nombre del equipo: FCB \n",
      " Jugadores:['Jugador 1', 'Jugador 2', 'Jugador 3']\n",
      "Nombre del equipo: Madrid FC \n",
      " Jugadores:['Jugador 1', 'Jugador 2', 'Jugador 3']\n",
      "Nombre del equipo: Valencia FC \n",
      " Jugadores:['Jugador 1', 'Jugador 2', 'Jugador 3']\n",
      "Nombre del equipo: PSG \n",
      " Jugadores:['Jugador 1', 'Jugador 2', 'Jugador 3']\n"
     ]
    }
   ],
   "source": [
    "equipos[\"equipo4\"] = {\"nombre\": \"PSG\", \"jugadores\": [\"Jugador 1\", \"Jugador 2\", \"Jugador 3\"]}\n",
    "for clave, valor in equipos.items():\n",
    "    equipo = valor[\"nombre\"]\n",
    "    jugadores = valor[\"jugadores\"]\n",
    "    print(f\"Nombre del equipo: {equipo} \\n Jugadores:{jugadores}\")"
   ]
  },
  {
   "cell_type": "markdown",
   "metadata": {},
   "source": [
    "26. Actualiza la lista de jugadores de uno de los equipos existentes en el diccionario\n",
    "\"equipos\". Agrega un nuevo jugador a la lista. Imprime el diccionario actualizado."
   ]
  },
  {
   "cell_type": "code",
   "execution_count": 23,
   "metadata": {},
   "outputs": [
    {
     "name": "stdout",
     "output_type": "stream",
     "text": [
      "Nombre del equipo: FCB \n",
      " Jugadores:['Jugador 1', 'Jugador 2', 'Jugador 3']\n",
      "Nombre del equipo: Madrid FC \n",
      " Jugadores:['Jugador 1', 'Jugador 2', 'Jugador 3']\n",
      "Nombre del equipo: Valencia FC \n",
      " Jugadores:['Jugador 1', 'Jugador 2', 'Jugador 3']\n",
      "Nombre del equipo: PSG \n",
      " Jugadores:['Jugador 1', 'Jugador 2', 'Jugador 3', 'Jugador 4']\n"
     ]
    }
   ],
   "source": [
    "equipos[\"equipo4\"][\"jugadores\"] = [\"Jugador 1\", \"Jugador 2\", \"Jugador 3\", \"Jugador 4\"]\n",
    "for clave, valor in equipos.items():\n",
    "    equipo = valor[\"nombre\"]\n",
    "    jugadores = valor[\"jugadores\"]\n",
    "    print(f\"Nombre del equipo: {equipo} \\n Jugadores:{jugadores}\")"
   ]
  },
  {
   "cell_type": "markdown",
   "metadata": {},
   "source": []
  }
 ],
 "metadata": {
  "kernelspec": {
   "display_name": "ConquerBlocks",
   "language": "python",
   "name": "python3"
  },
  "language_info": {
   "codemirror_mode": {
    "name": "ipython",
    "version": 3
   },
   "file_extension": ".py",
   "mimetype": "text/x-python",
   "name": "python",
   "nbconvert_exporter": "python",
   "pygments_lexer": "ipython3",
   "version": "3.13.2"
  }
 },
 "nbformat": 4,
 "nbformat_minor": 2
}
