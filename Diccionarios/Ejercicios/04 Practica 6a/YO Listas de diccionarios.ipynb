{
 "cells": [
  {
   "cell_type": "code",
   "execution_count": 23,
   "metadata": {},
   "outputs": [
    {
     "name": "stdout",
     "output_type": "stream",
     "text": [
      "Gerard tiene 30 años\n",
      "Marc tiene 29 años\n"
     ]
    }
   ],
   "source": [
    "estudiantes = [\n",
    "    {\"nombre\": \"Gerard\", \"edad\": 30},\n",
    "    {\"nombre\": \"Marc\", \"edad\": 29}\n",
    "]\n",
    "\n",
    "for estudiante in estudiantes:\n",
    "    nombre = estudiante[\"nombre\"]\n",
    "    edad = estudiante[\"edad\"]\n",
    "    print(f\"{nombre} tiene {edad} años\")"
   ]
  },
  {
   "cell_type": "code",
   "execution_count": 26,
   "metadata": {},
   "outputs": [
    {
     "name": "stdout",
     "output_type": "stream",
     "text": [
      "{'nombre': 'Gerard', 'edad': 30}\n",
      "{'nombre': 'Marc', 'edad': 29}\n",
      "{'nombre': 'Lea', 'edad': 18}\n"
     ]
    }
   ],
   "source": [
    "nuevo_estudiante = {\"nombre\": \"Lea\", \"edad\": 18}\n",
    "if nuevo_estudiante not in estudiantes:\n",
    "\testudiantes.append(nuevo_estudiante)\n",
    "\n",
    "for estudiante in estudiantes:\n",
    "\tprint(estudiante)"
   ]
  },
  {
   "cell_type": "code",
   "execution_count": 27,
   "metadata": {},
   "outputs": [
    {
     "name": "stdout",
     "output_type": "stream",
     "text": [
      "[{'nombre': 'Gerard', 'edad': 30}, {'nombre': 'Lea', 'edad': 18}]\n"
     ]
    }
   ],
   "source": [
    "del estudiantes[1]\n",
    "print(estudiantes)"
   ]
  },
  {
   "cell_type": "code",
   "execution_count": 30,
   "metadata": {},
   "outputs": [
    {
     "name": "stdout",
     "output_type": "stream",
     "text": [
      "[{'nombre': 'Gerard', 'edad': 23}, {'nombre': 'Lea', 'edad': 18}]\n"
     ]
    }
   ],
   "source": [
    "estudiantes[0][\"edad\"] = 23\n",
    "print(estudiantes)"
   ]
  }
 ],
 "metadata": {
  "kernelspec": {
   "display_name": "ConquerBlocks",
   "language": "python",
   "name": "python3"
  },
  "language_info": {
   "codemirror_mode": {
    "name": "ipython",
    "version": 3
   },
   "file_extension": ".py",
   "mimetype": "text/x-python",
   "name": "python",
   "nbconvert_exporter": "python",
   "pygments_lexer": "ipython3",
   "version": "3.13.2"
  }
 },
 "nbformat": 4,
 "nbformat_minor": 2
}
