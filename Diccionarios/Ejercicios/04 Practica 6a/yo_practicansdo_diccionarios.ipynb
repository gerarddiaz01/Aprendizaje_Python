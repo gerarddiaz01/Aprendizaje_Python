{
 "cells": [
  {
   "cell_type": "code",
   "execution_count": 3,
   "id": "99959a2e",
   "metadata": {},
   "outputs": [],
   "source": [
    "mi_diccionario = {}"
   ]
  },
  {
   "cell_type": "code",
   "execution_count": 5,
   "id": "d8ab53c5",
   "metadata": {},
   "outputs": [
    {
     "name": "stdout",
     "output_type": "stream",
     "text": [
      "{'nombre': 'Gerard'}\n"
     ]
    }
   ],
   "source": [
    "mi_diccionario[\"nombre\"] = \"Gerard\"\n",
    "print(mi_diccionario)"
   ]
  },
  {
   "cell_type": "code",
   "execution_count": 6,
   "id": "edfac78a",
   "metadata": {},
   "outputs": [
    {
     "name": "stdout",
     "output_type": "stream",
     "text": [
      "Gerard\n"
     ]
    }
   ],
   "source": [
    "print(mi_diccionario[\"nombre\"])"
   ]
  },
  {
   "cell_type": "code",
   "execution_count": 7,
   "id": "6bc2e5da",
   "metadata": {},
   "outputs": [
    {
     "name": "stdout",
     "output_type": "stream",
     "text": [
      "False\n"
     ]
    }
   ],
   "source": [
    "print(\"edad\" in mi_diccionario)"
   ]
  },
  {
   "cell_type": "code",
   "execution_count": 9,
   "id": "99fdc1d3",
   "metadata": {},
   "outputs": [
    {
     "name": "stdout",
     "output_type": "stream",
     "text": [
      "{'nombre': 'Gerard', 'edad': 30, 'materia': 'cyberseguridad'}\n"
     ]
    }
   ],
   "source": [
    "estudiante = {\n",
    "    \"nombre\": \"Gerard\",\n",
    "    \"edad\": 30,\n",
    "    \"materia\": \"cyberseguridad\",\n",
    "}\n",
    "\n",
    "print(estudiante)"
   ]
  },
  {
   "cell_type": "code",
   "execution_count": 10,
   "id": "cec4c28c",
   "metadata": {},
   "outputs": [
    {
     "name": "stdout",
     "output_type": "stream",
     "text": [
      "{'nombre': 'Gerard', 'edad': 29, 'materia': 'cyberseguridad'}\n"
     ]
    }
   ],
   "source": [
    "estudiante[\"edad\"] = 29\n",
    "print(estudiante)"
   ]
  },
  {
   "cell_type": "code",
   "execution_count": 11,
   "id": "0e487555",
   "metadata": {},
   "outputs": [
    {
     "name": "stdout",
     "output_type": "stream",
     "text": [
      "{'nombre': 'Gerard', 'edad': 29}\n"
     ]
    }
   ],
   "source": [
    "del estudiante[\"materia\"]\n",
    "print(estudiante)"
   ]
  },
  {
   "cell_type": "code",
   "execution_count": 19,
   "id": "11b072fa",
   "metadata": {},
   "outputs": [
    {
     "name": "stdout",
     "output_type": "stream",
     "text": [
      "nombre\n",
      "edad\n"
     ]
    }
   ],
   "source": [
    "for clave in estudiante.keys():\n",
    "    print(clave)"
   ]
  },
  {
   "cell_type": "code",
   "execution_count": 15,
   "id": "7b038e70",
   "metadata": {},
   "outputs": [
    {
     "name": "stdout",
     "output_type": "stream",
     "text": [
      "{'Juan': '1234567890', 'Joana': '9876543210', 'Jimena': '5555555555'}\n"
     ]
    }
   ],
   "source": [
    "agenda = {\n",
    "    \"Juan\": \"1234567890\",\n",
    "    \"Joana\": \"9876543210\",\n",
    "    \"Jimena\": \"5555555555\",\n",
    "}\n",
    "\n",
    "print(agenda)"
   ]
  },
  {
   "cell_type": "code",
   "execution_count": 17,
   "id": "3d30f6fe",
   "metadata": {},
   "outputs": [
    {
     "name": "stdout",
     "output_type": "stream",
     "text": [
      "{'Juan': '1234567890', 'Joana': '9876543210', 'Jimena': '5555555555', 'Julio': '9998887777'}\n"
     ]
    }
   ],
   "source": [
    "agenda[\"Julio\"] = \"9998887777\"\n",
    "print(agenda)"
   ]
  },
  {
   "cell_type": "code",
   "execution_count": 18,
   "id": "076e1a95",
   "metadata": {},
   "outputs": [
    {
     "name": "stdout",
     "output_type": "stream",
     "text": [
      "4\n"
     ]
    }
   ],
   "source": [
    "print(len(agenda))"
   ]
  },
  {
   "cell_type": "code",
   "execution_count": 23,
   "id": "8536c757",
   "metadata": {},
   "outputs": [
    {
     "name": "stdout",
     "output_type": "stream",
     "text": [
      "['Juan', 'Joana', 'Jimena', 'Julio']\n"
     ]
    }
   ],
   "source": [
    "claves = [key for key in agenda.keys()]\n",
    "\n",
    "print(claves)"
   ]
  },
  {
   "cell_type": "code",
   "execution_count": 24,
   "id": "e249ceed",
   "metadata": {},
   "outputs": [
    {
     "name": "stdout",
     "output_type": "stream",
     "text": [
      "True\n"
     ]
    }
   ],
   "source": [
    "print(\"Juan\" in agenda)"
   ]
  },
  {
   "cell_type": "code",
   "execution_count": 29,
   "id": "38bed531",
   "metadata": {},
   "outputs": [
    {
     "name": "stdout",
     "output_type": "stream",
     "text": [
      "{'Juan': '1234567890', 'Joana': '9876543210', 'Julio': '9998887777'}\n"
     ]
    }
   ],
   "source": [
    "# del agenda[\"Jimena\"]\n",
    "print(agenda)"
   ]
  },
  {
   "cell_type": "code",
   "execution_count": 30,
   "id": "0209bb7b",
   "metadata": {},
   "outputs": [
    {
     "name": "stdout",
     "output_type": "stream",
     "text": [
      "Juan: 1234567890\n",
      "Joana: 9876543210\n",
      "Julio: 9998887777\n"
     ]
    }
   ],
   "source": [
    "for clave, valor in agenda.items():\n",
    "    print(f\"{clave}: {valor}\")"
   ]
  },
  {
   "cell_type": "code",
   "execution_count": 34,
   "id": "f66904c5",
   "metadata": {},
   "outputs": [
    {
     "ename": "NameError",
     "evalue": "name 'agenda' is not defined",
     "output_type": "error",
     "traceback": [
      "\u001b[31m---------------------------------------------------------------------------\u001b[39m",
      "\u001b[31mNameError\u001b[39m                                 Traceback (most recent call last)",
      "\u001b[36mCell\u001b[39m\u001b[36m \u001b[39m\u001b[32mIn[34]\u001b[39m\u001b[32m, line 1\u001b[39m\n\u001b[32m----> \u001b[39m\u001b[32m1\u001b[39m \u001b[38;5;28mprint\u001b[39m(\u001b[43magenda\u001b[49m.get(\u001b[33m\"\u001b[39m\u001b[33mJuan\u001b[39m\u001b[33m\"\u001b[39m))\n",
      "\u001b[31mNameError\u001b[39m: name 'agenda' is not defined"
     ]
    }
   ],
   "source": [
    "print(agenda.get(\"Juan\"))"
   ]
  },
  {
   "cell_type": "code",
   "execution_count": 33,
   "id": "6ba48fe4",
   "metadata": {},
   "outputs": [
    {
     "ename": "NameError",
     "evalue": "name 'agenda' is not defined",
     "output_type": "error",
     "traceback": [
      "\u001b[31m---------------------------------------------------------------------------\u001b[39m",
      "\u001b[31mNameError\u001b[39m                                 Traceback (most recent call last)",
      "\u001b[36mCell\u001b[39m\u001b[36m \u001b[39m\u001b[32mIn[33]\u001b[39m\u001b[32m, line 1\u001b[39m\n\u001b[32m----> \u001b[39m\u001b[32m1\u001b[39m \u001b[38;5;28mprint\u001b[39m(\u001b[43magenda\u001b[49m)\n\u001b[32m      2\u001b[39m agenda.clear()\n\u001b[32m      3\u001b[39m \u001b[38;5;28mprint\u001b[39m(agenda)\n",
      "\u001b[31mNameError\u001b[39m: name 'agenda' is not defined"
     ]
    }
   ],
   "source": [
    "print(agenda)\n",
    "agenda.clear()\n",
    "print(agenda)"
   ]
  },
  {
   "cell_type": "code",
   "execution_count": 7,
   "id": "955da312",
   "metadata": {},
   "outputs": [
    {
     "name": "stdout",
     "output_type": "stream",
     "text": [
      "Nombre: Gerard, Edad: 30 años\n",
      "Nombre: Coline, Edad: 25 años\n"
     ]
    }
   ],
   "source": [
    "estudiantes = [\n",
    "    {\"nombre\": \"gerard\", \"edad\": 30},\n",
    "    {\"nombre\": \"coline\", \"edad\": 25}\n",
    "]\n",
    "\n",
    "for estudiante in estudiantes:\n",
    "    print(f\"Nombre: {estudiante[\"nombre\"].title()}, Edad: {estudiante[\"edad\"]} años\")"
   ]
  },
  {
   "cell_type": "code",
   "execution_count": 8,
   "id": "04dd8e9c",
   "metadata": {},
   "outputs": [
    {
     "name": "stdout",
     "output_type": "stream",
     "text": [
      "Nombre: Gerard, Edad: 30 años\n",
      "Nombre: Coline, Edad: 25 años\n",
      "Nombre: Marc, Edad: 29 años\n"
     ]
    }
   ],
   "source": [
    "estudiantes.append({\"nombre\": \"marc\", \"edad\": 29})\n",
    "\n",
    "for estudiante in estudiantes:\n",
    "    print(f\"Nombre: {estudiante[\"nombre\"].title()}, Edad: {estudiante[\"edad\"]} años\")"
   ]
  },
  {
   "cell_type": "code",
   "execution_count": 9,
   "id": "3e981d79",
   "metadata": {},
   "outputs": [
    {
     "name": "stdout",
     "output_type": "stream",
     "text": [
      "[{'nombre': 'gerard', 'edad': 30}, {'nombre': 'marc', 'edad': 29}]\n"
     ]
    }
   ],
   "source": [
    "del estudiantes[1]\n",
    "print(estudiantes)"
   ]
  },
  {
   "cell_type": "code",
   "execution_count": 10,
   "id": "2a531713",
   "metadata": {},
   "outputs": [
    {
     "name": "stdout",
     "output_type": "stream",
     "text": [
      "Nombre: Gerard, Edad: 31 años\n",
      "Nombre: Marc, Edad: 29 años\n"
     ]
    }
   ],
   "source": [
    "estudiantes[0][\"edad\"] = 31\n",
    "\n",
    "for estudiante in estudiantes:\n",
    "    print(f\"Nombre: {estudiante[\"nombre\"].title()}, Edad: {estudiante[\"edad\"]} años\")"
   ]
  },
  {
   "cell_type": "code",
   "execution_count": 20,
   "id": "5d940025",
   "metadata": {},
   "outputs": [
    {
     "name": "stdout",
     "output_type": "stream",
     "text": [
      "Producto: Pc, cuesta 2000 euros\n",
      "Producto: Botella, cuesta 50 euros\n"
     ]
    }
   ],
   "source": [
    "productos = {\n",
    "    \"producto 1\": {\n",
    "        \"nombre\": \"pc\", \n",
    "        \"precio\": 2000\n",
    "        },\n",
    "    \"producto 2\": {\n",
    "        \"nombre\": \"botella\", \n",
    "        \"precio\": 50\n",
    "        }\n",
    "}\n",
    "\n",
    "for producto, info in productos.items():\n",
    "    nombre = info[\"nombre\"]\n",
    "    precio = info[\"precio\"]\n",
    "    print(f\"Producto: {nombre.title()}, cuesta {precio} euros\")"
   ]
  },
  {
   "cell_type": "code",
   "execution_count": null,
   "id": "fc0d8048",
   "metadata": {},
   "outputs": [
    {
     "name": "stdout",
     "output_type": "stream",
     "text": [
      "Producto: Pc, cuesta 2000 euros\n",
      "Producto: Botella, cuesta 50 euros\n",
      "Producto: Telefono, cuesta 1300 euros\n"
     ]
    }
   ],
   "source": [
    "productos[\"producto 3\"] = {\"nombre\": \"telefono\", \"precio\": 1300}\n",
    "\n",
    "for producto, info in productos.items():\n",
    "    nombre = info[\"nombre\"]\n",
    "    precio = info[\"precio\"]\n",
    "    print(f\"Producto: {nombre.title()}, cuesta {precio} euros\")"
   ]
  },
  {
   "cell_type": "code",
   "execution_count": 31,
   "id": "f7d42bb0",
   "metadata": {},
   "outputs": [
    {
     "name": "stdout",
     "output_type": "stream",
     "text": [
      "Equipo: FCB\n",
      "Jugadores: ['gerard', 'marc', 'lea']\n",
      "Equipo: MADRID\n",
      "Jugadores: ['coline', 'océane', 'cyril']\n",
      "Equipo: VALENCIA\n",
      "Jugadores: ['susana', 'silvia', 'jordi']\n"
     ]
    }
   ],
   "source": [
    "equipos = {\n",
    "    \"equipo 1\": {\"nombre\": \"fcb\", \"jugadores\": [\"gerard\", \"marc\", \"lea\"]},\n",
    "    \"equipo 2\": {\"nombre\": \"madrid\", \"jugadores\": [\"coline\", \"océane\", \"cyril\"]},\n",
    "    \"equipo 3\": {\"nombre\": \"valencia\", \"jugadores\": [\"susana\", \"silvia\", \"jordi\"]}\n",
    "}\n",
    "\n",
    "for equipo, info in equipos.items():\n",
    "    nombre = info[\"nombre\"]\n",
    "    jugadores = info[\"jugadores\"]\n",
    "    print(f\"Equipo: {nombre.upper()}\")\n",
    "    print(f\"Jugadores: {jugadores}\")"
   ]
  },
  {
   "cell_type": "code",
   "execution_count": 32,
   "id": "06cb2a70",
   "metadata": {},
   "outputs": [
    {
     "name": "stdout",
     "output_type": "stream",
     "text": [
      "Equipo: FCB\n",
      "Jugadores: ['gerard', 'marc', 'lea']\n",
      "Equipo: MADRID\n",
      "Jugadores: ['coline', 'océane', 'cyril']\n",
      "Equipo: VALENCIA\n",
      "Jugadores: ['susana', 'silvia', 'jordi']\n",
      "Equipo: TOULOUSE\n",
      "Jugadores: ['cordell', 'annabelle', 'cedric']\n"
     ]
    }
   ],
   "source": [
    "equipos[\"equipo 4\"] = {\"nombre\": \"toulouse\", \"jugadores\": [\"cordell\", \"annabelle\", \"cedric\"]}\n",
    "\n",
    "for equipo, info in equipos.items():\n",
    "    nombre = info[\"nombre\"]\n",
    "    jugadores = info[\"jugadores\"]\n",
    "    print(f\"Equipo: {nombre.upper()}\")\n",
    "    print(f\"Jugadores: {jugadores}\")"
   ]
  },
  {
   "cell_type": "code",
   "execution_count": 35,
   "id": "82c2e7b5",
   "metadata": {},
   "outputs": [
    {
     "name": "stdout",
     "output_type": "stream",
     "text": [
      "Equipo: FCB\n",
      "Jugadores: ['gerard', 'marc', 'lea']\n",
      "Equipo: MADRID\n",
      "Jugadores: ['coline', 'océane', 'cyril']\n",
      "Equipo: VALENCIA\n",
      "Jugadores: ['susana', 'silvia', 'jordi']\n",
      "Equipo: TOULOUSE\n",
      "Jugadores: ['cordell', 'annabelle', 'cedric', ['morgane'], 'morgane']\n"
     ]
    }
   ],
   "source": [
    "equipos[\"equipo 4\"][\"jugadores\"].append(\"morgane\")\n",
    "\n",
    "for equipo, info in equipos.items():\n",
    "    nombre = info[\"nombre\"]\n",
    "    jugadores = info[\"jugadores\"]\n",
    "    print(f\"Equipo: {nombre.upper()}\")\n",
    "    print(f\"Jugadores: {jugadores}\")"
   ]
  }
 ],
 "metadata": {
  "kernelspec": {
   "display_name": "myenv",
   "language": "python",
   "name": "python3"
  },
  "language_info": {
   "codemirror_mode": {
    "name": "ipython",
    "version": 3
   },
   "file_extension": ".py",
   "mimetype": "text/x-python",
   "name": "python",
   "nbconvert_exporter": "python",
   "pygments_lexer": "ipython3",
   "version": "3.12.9"
  }
 },
 "nbformat": 4,
 "nbformat_minor": 5
}
