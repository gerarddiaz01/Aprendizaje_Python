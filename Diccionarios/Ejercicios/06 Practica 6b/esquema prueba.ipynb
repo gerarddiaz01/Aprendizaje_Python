{
 "cells": [
  {
   "cell_type": "markdown",
   "metadata": {},
   "source": [
    "1. Define el propósito del programa\n",
    "\n",
    "El programa debe permitirte registrar y administrar las ventas diarias de productos en una tienda.\n",
    "Funcionalidades principales:\n",
    "    Registrar ventas de productos.\n",
    "    Actualizar la cantidad vendida de un producto existente.\n",
    "    Calcular el total de ventas diarias.\n",
    "    Salir del programa.\n",
    "\n",
    "2. Crea la estructura básica\n",
    "\n",
    "Define un diccionario vacío:\n",
    "    Este diccionario almacenará las ventas diarias.\n",
    "    Las claves serán los nombres de los productos.\n",
    "    Los valores serán las cantidades vendidas de cada producto.\n",
    "\n",
    "Crea un bucle principal:\n",
    "    Usa un bucle que permita que el programa siga ejecutándose hasta que el usuario decida salir.\n",
    "    Define una variable de control para manejar el bucle.\n",
    "\n",
    "Muestra un menú de opciones:\n",
    "    El menú debe incluir las opciones para registrar ventas, actualizar cantidades, calcular el total de ventas y salir del programa.\n",
    "    Usa una entrada del usuario para capturar la opción elegida.\n",
    "\n",
    "3. Implementa la funcionalidad de cada opción\n",
    "\n",
    "Opción 1: Registrar una venta\n",
    "    Solicita al usuario el nombre del producto y la cantidad vendida.\n",
    "    Verifica si el producto ya está registrado en el diccionario:\n",
    "        Si el producto existe, suma la cantidad vendida a la cantidad actual.\n",
    "        Si el producto no existe, agrega el producto al diccionario con la cantidad vendida.\n",
    "\n",
    "Opción 2: Actualizar la cantidad vendida\n",
    "    Solicita al usuario el nombre del producto que desea actualizar.\n",
    "    Verifica si el producto existe en el diccionario:\n",
    "        Si el producto existe, solicita la nueva cantidad y actualiza el valor en el diccionario.\n",
    "        Si el producto no existe, muestra un mensaje indicando que no está registrado.\n",
    "\n",
    "Opción 3: Calcular el total de ventas\n",
    "    Inicializa una variable para almacenar el total de ventas.\n",
    "    Recorre los valores del diccionario (las cantidades vendidas) y suma cada valor al total.\n",
    "    Muestra el total de ventas al usuario.\n",
    "\n",
    "Opción 4: Salir del programa\n",
    "    Muestra un mensaje de despedida.\n",
    "    Cambia la variable de control del bucle para salir del programa.\n",
    "\n",
    "Opción inválida\n",
    "    Si el usuario ingresa una opción que no es válida, muestra un mensaje de error y vuelve a mostrar el menú.\n",
    "\n",
    "4. Junta todo el programa\n",
    "Combina todas las partes anteriores en un solo programa.\n",
    "Asegúrate de que el menú se muestre después de cada acción, excepto cuando el usuario elija salir.\n",
    "Maneja posibles errores, como entradas no válidas (por ejemplo, si el usuario ingresa texto en lugar de un número)."
   ]
  },
  {
   "cell_type": "markdown",
   "metadata": {},
   "source": []
  }
 ],
 "metadata": {
  "language_info": {
   "name": "python"
  }
 },
 "nbformat": 4,
 "nbformat_minor": 2
}
