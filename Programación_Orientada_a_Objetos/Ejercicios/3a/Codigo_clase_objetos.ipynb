{
 "cells": [
  {
   "cell_type": "markdown",
   "id": "d5131995",
   "metadata": {},
   "source": [
    "# CLASE PERSONA\n",
    "Define una clase Persona con atributos como nombre, edad y profesión. Luego, crea varios objetos de esta clase y muestra su información."
   ]
  },
  {
   "cell_type": "code",
   "execution_count": 3,
   "id": "726b248f",
   "metadata": {},
   "outputs": [
    {
     "name": "stdout",
     "output_type": "stream",
     "text": [
      "Gerard 30 IT\n",
      "Coline 25 Psicóloga\n"
     ]
    }
   ],
   "source": [
    "class Persona:\n",
    "    def __init__ (self, nombre, edad, profesion):\n",
    "        self.nombre = nombre\n",
    "        self.edad = edad\n",
    "        self.profesion = profesion\n",
    "    \n",
    "persona1 = Persona(\"Gerard\", 30, \"IT\")\n",
    "persona2 = Persona(\"Coline\", 25, \"Psicóloga\")\n",
    "\n",
    "print(persona1.nombre, persona1.edad, persona1.profesion)\n",
    "print(persona2.nombre, persona2.edad, persona2.profesion) \n"
   ]
  },
  {
   "cell_type": "markdown",
   "id": "fe07a774",
   "metadata": {},
   "source": [
    "# CALCULADORA BASICA\n",
    "Crea una clase llamada \"Calculadora\" con métodos para sumar, restar, multiplicar y dividir. Crea objetos de esta clase y realiza algunas operaciones básicas."
   ]
  },
  {
   "cell_type": "code",
   "execution_count": 9,
   "id": "314a2f5c",
   "metadata": {},
   "outputs": [
    {
     "name": "stdout",
     "output_type": "stream",
     "text": [
      "100 + 20 = \n",
      "120\n",
      "\n",
      "120 - 30 = \n",
      "90\n",
      "\n",
      "90 * 4 = \n",
      "360\n",
      "\n",
      "360 / 2 = \n",
      "180.0\n",
      "\n"
     ]
    }
   ],
   "source": [
    "class Calculadora:\n",
    "    def __init__ (self, numero):\n",
    "        self.numero = numero\n",
    "    def sumar(self, numero):\n",
    "        print(f\"{self.numero} + {numero} = \")\n",
    "        self.numero += numero\n",
    "        print(f\"{self.numero}\")\n",
    "        print(\"\")\n",
    "    def restar(self, numero):\n",
    "        print(f\"{self.numero} - {numero} = \")\n",
    "        self.numero -= numero\n",
    "        print(f\"{self.numero}\")\n",
    "        print(\"\")\n",
    "    def multiplicar(self, numero):\n",
    "        print(f\"{self.numero} * {numero} = \")\n",
    "        self.numero *= numero\n",
    "        print(f\"{self.numero}\")\n",
    "        print(\"\")\n",
    "    def dividir(self, numero):\n",
    "        print(f\"{self.numero} / {numero} = \")\n",
    "        self.numero /= numero\n",
    "        print(f\"{self.numero}\")\n",
    "        print(\"\")\n",
    "\n",
    "numero1 = Calculadora(100)\n",
    "numero1.sumar(20)\n",
    "numero1.restar(30)\n",
    "numero1.multiplicar(4)\n",
    "numero1.dividir(2)\n"
   ]
  },
  {
   "cell_type": "markdown",
   "id": "81cfe5c5",
   "metadata": {},
   "source": [
    "# LIBRO\n",
    "Crea una clase \"Libro\" con atributos como título, autor y año de publicación. Luego, crea varios objetos Libro y muestra su información."
   ]
  },
  {
   "cell_type": "code",
   "execution_count": 10,
   "id": "6022976e",
   "metadata": {},
   "outputs": [
    {
     "name": "stdout",
     "output_type": "stream",
     "text": [
      "Mother of God Paul Rosalie 2020\n",
      "Simplissime Larousse 2000\n"
     ]
    }
   ],
   "source": [
    "class Libro:\n",
    "    def __init__ (self, titulo, autor, año_publicacion):\n",
    "        self.titulo = titulo\n",
    "        self.autor = autor\n",
    "        self.año_publicacion = año_publicacion\n",
    "    \n",
    "libro1 = Libro(\"Mother of God\", \"Paul Rosalie\", 2020)\n",
    "libro2 = Libro(\"Simplissime\", \"Larousse\", 2000)\n",
    "\n",
    "print(libro1.titulo, libro1.autor, libro1.año_publicacion)\n",
    "print(libro2.titulo, libro2.autor, libro2.año_publicacion)"
   ]
  },
  {
   "cell_type": "markdown",
   "id": "1a563286",
   "metadata": {},
   "source": [
    "# RECTÁNGULO\n",
    "Crea una clase \"Rectangulo\" con atributos de longitud y ancho. Implementa un método para calcular el área y el perímetro del rectángulo."
   ]
  },
  {
   "cell_type": "code",
   "execution_count": 12,
   "id": "be7aa330",
   "metadata": {},
   "outputs": [
    {
     "name": "stdout",
     "output_type": "stream",
     "text": [
      "Area: 15\n",
      "Perimetro: 16\n"
     ]
    }
   ],
   "source": [
    "class Rectangulo:\n",
    "    def __init__ (self, longitud, ancho):\n",
    "        self.longitud = longitud\n",
    "        self.ancho = ancho\n",
    "    def calcular_area(self):\n",
    "        area = self.longitud * self.ancho\n",
    "        return area\n",
    "    def calcular_perimetro(self):\n",
    "        perimetro = 2 * (self.longitud + self.ancho)\n",
    "        return perimetro\n",
    "\n",
    "rectangulo1 = Rectangulo(5, 3)\n",
    "print(\"Area:\", rectangulo1.calcular_area())\n",
    "print(\"Perimetro:\", rectangulo1.calcular_perimetro())\n"
   ]
  },
  {
   "cell_type": "markdown",
   "id": "99209ae9",
   "metadata": {},
   "source": [
    "# DADO\n",
    "Crea una clase \"Dado\" que simule el lanzamiento de un dado de 6 caras. Implementa un método para lanzar el dado y mostrar el resultado."
   ]
  },
  {
   "cell_type": "code",
   "execution_count": 13,
   "id": "e6562544",
   "metadata": {},
   "outputs": [
    {
     "name": "stdout",
     "output_type": "stream",
     "text": [
      "Resultado del dado 1: 3\n",
      "Resultado del dado 2: 5\n"
     ]
    }
   ],
   "source": [
    "import random\n",
    "\n",
    "class Dado:\n",
    "    def lanzar_dado(self):\n",
    "        lanzamiento = random.randint(1, 6)\n",
    "        return lanzamiento\n",
    "    \n",
    "dado1 = Dado()\n",
    "dado2 = Dado()\n",
    "resultado1 = dado1.lanzar_dado()\n",
    "resultado2 = dado2.lanzar_dado()\n",
    "print(\"Resultado del dado 1:\", resultado1)\n",
    "print(\"Resultado del dado 2:\", resultado2)"
   ]
  },
  {
   "cell_type": "markdown",
   "id": "585fac44",
   "metadata": {},
   "source": [
    "# COCHE\n",
    "Crea una clase \"Coche\" con atributos como marca, modelo y año. Implementa un método para encender el coche y otro para apagarlo."
   ]
  },
  {
   "cell_type": "code",
   "execution_count": 16,
   "id": "0cb7cc75",
   "metadata": {},
   "outputs": [
    {
     "name": "stdout",
     "output_type": "stream",
     "text": [
      "Mi coche está encendido:  True\n",
      "Mi coche está apagado:  False\n"
     ]
    }
   ],
   "source": [
    "class Coche:\n",
    "    def __init__ (self, marca, modelo, año):\n",
    "        self.marca = marca\n",
    "        self.modelo = modelo\n",
    "        self.año = año\n",
    "        self.encendido = False\n",
    "    def encender_coche(self):\n",
    "        self.encendido = True\n",
    "    def apagar_coche(self):\n",
    "        self.encendido = False\n",
    "\n",
    "coche1 = Coche(\"Toyota\", \"Corolla\", 2005)\n",
    "coche1.encender_coche()\n",
    "print(\"Mi coche está encendido: \", coche1.encendido)\n",
    "coche1.apagar_coche()\n",
    "print(\"Mi coche está apagado: \", coche1.encendido)"
   ]
  }
 ],
 "metadata": {
  "kernelspec": {
   "display_name": "ConquerBlocks",
   "language": "python",
   "name": "python3"
  },
  "language_info": {
   "codemirror_mode": {
    "name": "ipython",
    "version": 3
   },
   "file_extension": ".py",
   "mimetype": "text/x-python",
   "name": "python",
   "nbconvert_exporter": "python",
   "pygments_lexer": "ipython3",
   "version": "3.13.2"
  }
 },
 "nbformat": 4,
 "nbformat_minor": 5
}
